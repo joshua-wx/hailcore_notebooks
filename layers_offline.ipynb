{
 "cells": [
  {
   "cell_type": "code",
   "execution_count": 1,
   "id": "cc33e703-b633-4a00-8a30-dd4d3ebdc81f",
   "metadata": {},
   "outputs": [
    {
     "name": "stdout",
     "output_type": "stream",
     "text": [
      "\n",
      "## You are using the Python ARM Radar Toolkit (Py-ART), an open source\n",
      "## library for working with weather radar data. Py-ART is partly\n",
      "## supported by the U.S. Department of Energy as part of the Atmospheric\n",
      "## Radiation Measurement (ARM) Climate Research Facility, an Office of\n",
      "## Science user facility.\n",
      "##\n",
      "## If you use this software to prepare a publication, please cite:\n",
      "##\n",
      "##     JJ Helmus and SM Collis, JORS 2016, doi: 10.5334/jors.119\n",
      "\n"
     ]
    },
    {
     "name": "stderr",
     "output_type": "stream",
     "text": [
      "/g/data/en0/jss548/miniconda3/envs/hailcore/lib/python3.9/site-packages/scikit_image-0.18.3-py3.9-linux-x86_64.egg/skimage/filters/rank/generic.py:1: DeprecationWarning: invalid escape sequence \\-\n",
      "  \"\"\"\n",
      "/g/data/en0/jss548/miniconda3/envs/hailcore/lib/python3.9/site-packages/hailcore-1.0.0-py3.9.egg/hailcore/lib_nwp.py:19: DeprecationWarning: invalid escape sequence \\s\n",
      "/g/data/en0/jss548/miniconda3/envs/hailcore/lib/python3.9/site-packages/hailcore-1.0.0-py3.9.egg/hailcore/lib_nwp.py:19: DeprecationWarning: invalid escape sequence \\s\n",
      "/g/data/en0/jss548/miniconda3/envs/hailcore/lib/python3.9/site-packages/astropy-5.0rc1-py3.9-linux-x86_64.egg/astropy/utils/misc.py:41: DeprecationWarning: invalid escape sequence \\.\n",
      "  _NOT_OVERWRITING_MSG_MATCH = ('File .* already exists\\. If you mean to '\n",
      "/g/data/en0/jss548/miniconda3/envs/hailcore/lib/python3.9/site-packages/astropy-5.0rc1-py3.9-linux-x86_64.egg/astropy/utils/misc.py:43: DeprecationWarning: invalid escape sequence \\.\n",
      "  '\"overwrite=True\"\\.')\n"
     ]
    },
    {
     "ename": "ImportError",
     "evalue": "cannot import name 'retreival_accumulation' from 'hailcore' (/g/data/en0/jss548/miniconda3/envs/hailcore/lib/python3.9/site-packages/hailcore-1.0.0-py3.9.egg/hailcore/__init__.py)",
     "output_type": "error",
     "traceback": [
      "\u001b[0;31m---------------------------------------------------------------------------\u001b[0m",
      "\u001b[0;31mImportError\u001b[0m                               Traceback (most recent call last)",
      "\u001b[0;32m/jobfs/31039279.gadi-pbs/ipykernel_2357113/3230466195.py\u001b[0m in \u001b[0;36m<module>\u001b[0;34m\u001b[0m\n\u001b[0;32m----> 1\u001b[0;31m \u001b[0;32mfrom\u001b[0m \u001b[0mhailcore\u001b[0m \u001b[0;32mimport\u001b[0m \u001b[0mlib_qc\u001b[0m\u001b[0;34m\u001b[0m\u001b[0;34m\u001b[0m\u001b[0m\n\u001b[0m",
      "\u001b[0;32m<frozen zipimport>\u001b[0m in \u001b[0;36mload_module\u001b[0;34m(self, fullname)\u001b[0m\n",
      "\u001b[0;32m/g/data/en0/jss548/miniconda3/envs/hailcore/lib/python3.9/site-packages/hailcore-1.0.0-py3.9.egg/hailcore/__init__.py\u001b[0m in \u001b[0;36m<module>\u001b[0;34m\u001b[0m\n\u001b[1;32m     24\u001b[0m \u001b[0;34m\u001b[0m\u001b[0m\n\u001b[1;32m     25\u001b[0m \u001b[0;32mfrom\u001b[0m \u001b[0;34m.\u001b[0m \u001b[0;32mimport\u001b[0m \u001b[0mretrieval\u001b[0m\u001b[0;34m\u001b[0m\u001b[0;34m\u001b[0m\u001b[0m\n\u001b[0;32m---> 26\u001b[0;31m \u001b[0;32mfrom\u001b[0m \u001b[0;34m.\u001b[0m \u001b[0;32mimport\u001b[0m \u001b[0mretreival_accumulation\u001b[0m \u001b[0;31m#noqa\u001b[0m\u001b[0;34m\u001b[0m\u001b[0;34m\u001b[0m\u001b[0m\n\u001b[0m\u001b[1;32m     27\u001b[0m \u001b[0;32mfrom\u001b[0m \u001b[0;34m.\u001b[0m \u001b[0;32mimport\u001b[0m \u001b[0mretreival_grid\u001b[0m \u001b[0;31m#noqa\u001b[0m\u001b[0;34m\u001b[0m\u001b[0;34m\u001b[0m\u001b[0m\n\u001b[1;32m     28\u001b[0m \u001b[0;32mfrom\u001b[0m \u001b[0;34m.\u001b[0m \u001b[0;32mimport\u001b[0m \u001b[0mretreival_optflow\u001b[0m \u001b[0;31m#noqa\u001b[0m\u001b[0;34m\u001b[0m\u001b[0;34m\u001b[0m\u001b[0m\n",
      "\u001b[0;31mImportError\u001b[0m: cannot import name 'retreival_accumulation' from 'hailcore' (/g/data/en0/jss548/miniconda3/envs/hailcore/lib/python3.9/site-packages/hailcore-1.0.0-py3.9.egg/hailcore/__init__.py)"
     ]
    }
   ],
   "source": [
    "from hailcore import lib_qc"
   ]
  },
  {
   "cell_type": "code",
   "execution_count": null,
   "id": "4ff19ea6-2e3b-483e-9a81-c34b1319b4e1",
   "metadata": {},
   "outputs": [],
   "source": []
  }
 ],
 "metadata": {
  "kernelspec": {
   "display_name": "Python [conda env:hailcore]",
   "language": "python",
   "name": "conda-env-hailcore-py"
  },
  "language_info": {
   "codemirror_mode": {
    "name": "ipython",
    "version": 3
   },
   "file_extension": ".py",
   "mimetype": "text/x-python",
   "name": "python",
   "nbconvert_exporter": "python",
   "pygments_lexer": "ipython3",
   "version": "3.9.7"
  }
 },
 "nbformat": 4,
 "nbformat_minor": 5
}
