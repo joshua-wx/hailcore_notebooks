{
 "cells": [
  {
   "cell_type": "code",
   "execution_count": 1,
   "id": "264b0f8c-7f4c-4d00-89b1-04109cb36116",
   "metadata": {},
   "outputs": [
    {
     "name": "stdout",
     "output_type": "stream",
     "text": [
      "\n",
      "## You are using the Python ARM Radar Toolkit (Py-ART), an open source\n",
      "## library for working with weather radar data. Py-ART is partly\n",
      "## supported by the U.S. Department of Energy as part of the Atmospheric\n",
      "## Radiation Measurement (ARM) Climate Research Facility, an Office of\n",
      "## Science user facility.\n",
      "##\n",
      "## If you use this software to prepare a publication, please cite:\n",
      "##\n",
      "##     JJ Helmus and SM Collis, JORS 2016, doi: 10.5334/jors.119\n",
      "\n"
     ]
    },
    {
     "name": "stderr",
     "output_type": "stream",
     "text": [
      "/g/data/en0/jss548/miniconda3/envs/hailcore/lib/python3.9/site-packages/hailcore-1.0.0-py3.9.egg/hailcore/lib_nwp.py:19: DeprecationWarning: invalid escape sequence \\s\n",
      "/g/data/en0/jss548/miniconda3/envs/hailcore/lib/python3.9/site-packages/hailcore-1.0.0-py3.9.egg/hailcore/lib_nwp.py:19: DeprecationWarning: invalid escape sequence \\s\n"
     ]
    }
   ],
   "source": [
    "from datetime import datetime\n",
    "\n",
    "from hailcore import lib_util as util\n",
    "from hailcore import layers\n",
    "from hailcore import lib_conf as conf_generator"
   ]
  },
  {
   "cell_type": "code",
   "execution_count": 2,
   "id": "e00b3ff5-b228-42e7-9a80-7305c86d546b",
   "metadata": {},
   "outputs": [],
   "source": [
    "#config path\n",
    "\n",
    "# queue = [([3], '19990414_0000', '19990414_1200'),\n",
    "#         ([71,3,4], '20181220_0000', '20181220_1200'),\n",
    "#         ([23],'20200419_0000','20200419_1200'),\n",
    "#         ([2,40,3,4,66],'20200119_0000','20200121_1200'),\n",
    "#         ([66,8,28],'20201031_0000','20201031_1200'),\n",
    "#         ([66],'20180926_0000','20180926_1200')]\n",
    "\n",
    "queue = [([64],'20161111_0000','20161111_1200'),\n",
    "        ([66],'20191117_0000','20191117_1200')]"
   ]
  },
  {
   "cell_type": "code",
   "execution_count": 3,
   "id": "357c096d-dadf-4414-ba82-e0a2eda0108c",
   "metadata": {},
   "outputs": [
    {
     "name": "stdout",
     "output_type": "stream",
     "text": [
      "starting 64\n"
     ]
    },
    {
     "name": "stderr",
     "output_type": "stream",
     "text": [
      "<__array_function__ internals>:5: UserWarning: Warning: converting a masked element to nan.\n",
      "/g/data/en0/jss548/miniconda3/envs/hailcore/lib/python3.9/site-packages/numpy/core/_asarray.py:102: UserWarning: Warning: converting a masked element to nan.\n",
      "  return array(a, dtype, copy=False, order=order)\n"
     ]
    },
    {
     "name": "stdout",
     "output_type": "stream",
     "text": [
      "starting 66\n"
     ]
    },
    {
     "name": "stderr",
     "output_type": "stream",
     "text": [
      "<__array_function__ internals>:5: UserWarning: Warning: converting a masked element to nan.\n",
      "/g/data/en0/jss548/miniconda3/envs/hailcore/lib/python3.9/site-packages/numpy/core/_asarray.py:102: UserWarning: Warning: converting a masked element to nan.\n",
      "  return array(a, dtype, copy=False, order=order)\n"
     ]
    }
   ],
   "source": [
    "#Batch Mode\n",
    "conf = conf_generator.HailCore(mode='nci')\n",
    "\n",
    "#extract level1 vol files\n",
    "for item in queue:\n",
    "    radar_id_list = item[0]\n",
    "    start_dt = datetime.strptime(item[1], '%Y%m%d_%H%M')\n",
    "    end_dt = datetime.strptime(item[2], '%Y%m%d_%H%M')\n",
    "    dt_list = util.daterange(start_dt, end_dt)\n",
    "    layers.manager(radar_id_list, start_dt, end_dt, conf)\n",
    "    "
   ]
  },
  {
   "cell_type": "code",
   "execution_count": null,
   "id": "071a4573-8f81-4c5e-bb45-8ef11fa07108",
   "metadata": {},
   "outputs": [],
   "source": []
  }
 ],
 "metadata": {
  "kernelspec": {
   "display_name": "Python [conda env:hailcore]",
   "language": "python",
   "name": "conda-env-hailcore-py"
  },
  "language_info": {
   "codemirror_mode": {
    "name": "ipython",
    "version": 3
   },
   "file_extension": ".py",
   "mimetype": "text/x-python",
   "name": "python",
   "nbconvert_exporter": "python",
   "pygments_lexer": "ipython3",
   "version": "3.9.7"
  }
 },
 "nbformat": 4,
 "nbformat_minor": 5
}
