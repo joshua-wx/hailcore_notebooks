{
 "cells": [
  {
   "cell_type": "code",
   "execution_count": 3,
   "id": "7566060a-811d-44df-a8ba-de16202a0167",
   "metadata": {},
   "outputs": [
    {
     "name": "stderr",
     "output_type": "stream",
     "text": [
      "/g/data/en0/jss548/miniconda3/envs/radar-dev/lib/python3.9/site-packages/ipykernel/ipkernel.py:283: DeprecationWarning: `should_run_async` will not call `transform_cell` automatically in the future. Please pass the result to `transformed_cell` argument and any exception that happen during thetransform in `preprocessing_exc_tuple` in IPython 7.17 and above.\n",
      "  and should_run_async(code)\n"
     ]
    }
   ],
   "source": [
    "import os\n",
    "\n",
    "import pyart\n",
    "import numpy as np\n",
    "import h5py\n"
   ]
  },
  {
   "cell_type": "code",
   "execution_count": 2,
   "id": "ed7f6d18-8d55-4fbc-97bc-da2279d1d168",
   "metadata": {},
   "outputs": [
    {
     "name": "stderr",
     "output_type": "stream",
     "text": [
      "/g/data/en0/jss548/miniconda3/envs/radar-dev/lib/python3.9/site-packages/ipykernel/ipkernel.py:283: DeprecationWarning: `should_run_async` will not call `transform_cell` automatically in the future. Please pass the result to `transformed_cell` argument and any exception that happen during thetransform in `preprocessing_exc_tuple` in IPython 7.17 and above.\n",
      "  and should_run_async(code)\n"
     ]
    }
   ],
   "source": [
    "def half_power_radius(r, bwhalf):\n",
    "    \"\"\"\n",
    "    Half-power radius [m].\n",
    "    Battan (1973),\n",
    "    Parameters\n",
    "    ----------\n",
    "    r : float or array\n",
    "        Range [m]\n",
    "    bwhalf : float\n",
    "        Half-power beam width [degrees]\n",
    "        \n",
    "    https://github.com/nguy/PyRadarMet/blob/master/pyradarmet/geometry.py\n",
    "    \"\"\"\n",
    "    # Convert earth's radius to km for common dN/dH values and then\n",
    "    # multiply by 1000 to return radius in meters\n",
    "    return (np.asarray(r) * np.deg2rad(bwhalf)) / 2.\n",
    "\n",
    "def beam_block_frac(th, bh, a):\n",
    "    \"\"\"Partial beam blockage fraction.\n",
    "    Note\n",
    "    ----\n",
    "    Code was migrated from https://github.com/nguy/PyRadarMet.\n",
    "    From Bech et al. (2003), Eqn 2 and Appendix\n",
    "    Parameters\n",
    "    ----------\n",
    "    th : float or :class:`numpy:numpy.ndarray`\n",
    "        Terrain height [m]\n",
    "    bh : float or :class:`numpy:numpy.ndarray`\n",
    "        Beam height [m]\n",
    "    a : float or :class:`numpy:numpy.ndarray`\n",
    "        Half power beam radius [m]\n",
    "    Returns\n",
    "    -------\n",
    "    pbb : float or :class:`numpy:numpy.ndarray`\n",
    "        Partial beam blockage fraction [unitless]\n",
    "    Examples\n",
    "    --------\n",
    "    >>> pbb = beam_block_frac(th,bh,a) #doctest: +SKIP\n",
    "    See :ref:`/notebooks/beamblockage/wradlib_beamblock.ipynb`.\n",
    "    Note\n",
    "    ----\n",
    "    This procedure uses a simplified interception function where no vertical\n",
    "    gradient of refractivity is considered.  Other algorithms treat this\n",
    "    more thoroughly.  However, this is accurate in most cases other than\n",
    "    the super-refractive case.\n",
    "    See the the half_power_radius function to calculate variable `a`.\n",
    "    The heights must be the same units!\n",
    "    WRADLIB code\n",
    "    \"\"\"\n",
    "    isfloat = isinstance(th, float) and isinstance(bh, float) and isinstance(a, float)\n",
    "\n",
    "    # convert to numpy array in any case\n",
    "    th = np.atleast_1d(th)\n",
    "    bh = np.atleast_1d(bh)\n",
    "    a = np.atleast_1d(a)\n",
    "\n",
    "    # First find the difference between the terrain and height of\n",
    "    # radar beam (Bech et al. (2003), Fig.3)\n",
    "    y = th - bh\n",
    "\n",
    "    # check if beam is clear or blocked\n",
    "    ya = y / a\n",
    "    clear = ya < -1.0\n",
    "    block = ya > 1.0\n",
    "\n",
    "    numer = (ya * np.sqrt(a ** 2 - y ** 2)) + (a * np.arcsin(ya)) + (np.pi * a / 2.0)\n",
    "\n",
    "    denom = np.pi * a\n",
    "\n",
    "    pbb = numer / denom\n",
    "\n",
    "    pbb[clear] = 0.0\n",
    "    pbb[block] = 1.0\n",
    "\n",
    "    if isfloat:\n",
    "        return pbb[0]\n",
    "    else:\n",
    "        return pbb\n",
    "    \n",
    "def cum_beam_block_frac(pbb):\n",
    "    \"\"\"Cumulative beam blockage fraction along a beam.\n",
    "    Computes the cumulative beam blockage (cbb) along a beam from the partial\n",
    "    beam blockage (pbb) fraction of each bin along that beam. CBB in one bin\n",
    "    along a beam will always be at least as high as the maximum PBB of the\n",
    "    preceeding bins.\n",
    "    Parameters\n",
    "    ----------\n",
    "    pbb : :class:`numpy:numpy.ndarray`\n",
    "        2-D array of floats of shape (num beams, num range bins)\n",
    "        Partial beam blockage fraction of a bin along a beam [m]\n",
    "    Returns\n",
    "    -------\n",
    "    cbb : :class:`numpy:numpy.ndarray`\n",
    "        Array of floats of the same shape as pbb\n",
    "        Cumulative partial beam blockage fraction [unitless]\n",
    "    Examples\n",
    "    --------\n",
    "    >>> pbb = beam_block_frac(th, bh, a) #doctest: +SKIP\n",
    "    >>> cbb = cum_beam_block_frac(pbb) #doctest: +SKIP\n",
    "    See :ref:`/notebooks/beamblockage/wradlib_beamblock.ipynb`.\n",
    "    WRADLIB code\n",
    "    \"\"\"\n",
    "\n",
    "    # This is the index of the maximum PBB along each beam\n",
    "    maxindex = np.nanargmax(pbb, axis=1)\n",
    "    cbb = np.copy(pbb)\n",
    "\n",
    "    # Iterate over all beams\n",
    "    for ii, index in enumerate(maxindex):\n",
    "        premax = 0.0\n",
    "        for jj in range(index):\n",
    "            # Only iterate to max index to make this faster\n",
    "            if pbb[ii, jj] > premax:\n",
    "                cbb[ii, jj] = pbb[ii, jj]\n",
    "                premax = pbb[ii, jj]\n",
    "            else:\n",
    "                cbb[ii, jj] = premax\n",
    "        # beyond max index, everything is max anyway\n",
    "        cbb[ii, index:] = pbb[ii, index]\n",
    "\n",
    "    return cbb\n"
   ]
  },
  {
   "cell_type": "code",
   "execution_count": 12,
   "id": "23a103cf-85fe-4f75-bf08-1841e8d7e01d",
   "metadata": {},
   "outputs": [
    {
     "name": "stderr",
     "output_type": "stream",
     "text": [
      "/g/data/en0/jss548/miniconda3/envs/radar-dev/lib/python3.9/site-packages/ipykernel/ipkernel.py:283: DeprecationWarning: `should_run_async` will not call `transform_cell` automatically in the future. Please pass the result to `transformed_cell` argument and any exception that happen during thetransform in `preprocessing_exc_tuple` in IPython 7.17 and above.\n",
      "  and should_run_async(code)\n",
      "<ipython-input-2-9f0592de1639>:66: RuntimeWarning: invalid value encountered in sqrt\n",
      "  numer = (ya * np.sqrt(a ** 2 - y ** 2)) + (a * np.arcsin(ya)) + (np.pi * a / 2.0)\n",
      "<ipython-input-2-9f0592de1639>:66: RuntimeWarning: invalid value encountered in arcsin\n",
      "  numer = (ya * np.sqrt(a ** 2 - y ** 2)) + (a * np.arcsin(ya)) + (np.pi * a / 2.0)\n"
     ]
    }
   ],
   "source": [
    "climatology_ffn = '/g/data/rq0/admin/RF3_climatology/2_climatology.vol.h5'\n",
    "\n",
    "#load climatology file\n",
    "if os.path.exists(climatology_ffn):\n",
    "    clim = pyart.aux_io.read_odim_h5(climatology_ffn, file_field_names=True)\n",
    "else:\n",
    "    print('climatology file not found', climatology_ffn)\n",
    "\n",
    "#load peaks data\n",
    "#PEAKS gives you the altitude of the highest value in the DEM for anywhere under the entire sweep arc for the given range bin. This peak may actually occur outside the nominal area covered by the range bin since while the antenna is at the CW edge of the ray half of the beam is still sampling the space nominally corresponding to the neighbouring ray on that side.\n",
    "peaks = clim.fields['PEAKS']['data']\n",
    "\n",
    "with h5py.File(climatology_ffn, 'r') as hfile:\n",
    "\n",
    "    #load metadata\n",
    "    global_how = hfile['how'].attrs\n",
    "    beamwH = global_how['beamwH'] #deg\n",
    "    global_where = hfile['where'].attrs\n",
    "    radar_alt_asl = global_where['height'] #m asl\n",
    "\n",
    "#calculate CCB\n",
    "rg, azg = np.meshgrid(clim.range['data'], clim.azimuth['data'])\n",
    "rg, eleg = np.meshgrid(clim.range['data'], clim.elevation['data'])\n",
    "_, _, z = pyart.core.transforms.antenna_to_cartesian(rg / 1000.0, azg, eleg)\n",
    "z_asl = z + radar_alt_asl\n",
    "a = half_power_radius(rg, beamwH)\n",
    "pbb = beam_block_frac(peaks, z_asl, a)\n",
    "cbb = cum_beam_block_frac(pbb)"
   ]
  },
  {
   "cell_type": "code",
   "execution_count": 37,
   "id": "16f3c953-8bbb-4f92-986f-7469396e34d0",
   "metadata": {},
   "outputs": [
    {
     "name": "stderr",
     "output_type": "stream",
     "text": [
      "/g/data/en0/jss548/miniconda3/envs/radar-dev/lib/python3.9/site-packages/ipykernel/ipkernel.py:283: DeprecationWarning: `should_run_async` will not call `transform_cell` automatically in the future. Please pass the result to `transformed_cell` argument and any exception that happen during thetransform in `preprocessing_exc_tuple` in IPython 7.17 and above.\n",
      "  and should_run_async(code)\n"
     ]
    },
    {
     "name": "stdout",
     "output_type": "stream",
     "text": [
      "0.06607794761657715\n"
     ]
    }
   ],
   "source": [
    "def find_nearest(array, value):\n",
    "    array = np.asarray(array)\n",
    "    idx = (np.abs(array - value)).argmin()\n",
    "    return idx\n",
    "\n",
    "#load radar file\n",
    "radar_ffn = '/g/data/kl02/jss548/openradar/testing_files/dp/02_20200119_050031.pvol.h5'\n",
    "radar = pyart.aux_io.read_odim_h5(radar_ffn, file_field_names=True)\n",
    "\n",
    "radar_rg  = radar.range['data']\n",
    "clim_rg   = clim.range['data']\n",
    "# build range mapping (Assuming it does not change between sweeps)\n",
    "rg_idx = np.zeros_like(radar_rg, dtype=int)\n",
    "for i, rg in enumerate(radar_rg):\n",
    "    rg_idx[i] = find_nearest(clim_rg, rg)\n",
    "\n",
    "radar_elv = radar.fixed_angle['data']\n",
    "clim_elv  = clim.fixed_angle['data']\n",
    "\n",
    "cbb_remapped = np.zeros_like(radar.fields['DBZH']['data'])\n",
    "\n",
    "#for each sweep in the radar file\n",
    "for i, elv in enumerate(radar_elv):\n",
    "    #find the nearest elevation angle in the climatology\n",
    "    threshold = 0.1 #maximum difference between climatology elv and radar elv\n",
    "    elv_idx = find_nearest(clim_elv, elv)\n",
    "    if np.abs(clim_elv[elv_idx]-elv) > threshold:\n",
    "        print('cannot find radar elv of', elv, 'in climatology sweeps of', clim_elv)\n",
    "        continue\n",
    "    \n",
    "    # extract cbb for sweep\n",
    "    sweep_slice = clim.get_slice(elv_idx)\n",
    "    cbb_sweep = cbb[sweep_slice]\n",
    "    # build azimuith mapping (allows for changes)\n",
    "    radar_az = radar.get_azimuth(i)\n",
    "    clim_az = clim.get_azimuth(i)\n",
    "    az_idx = np.zeros_like(radar_az, dtype=int)\n",
    "    for i, az in enumerate(radar_az):\n",
    "        az_idx[i] = find_nearest(clim_az, az)\n",
    "    #remapp cbb for current sweep\n",
    "    rg_map_idx, az_map_idx = np.meshgrid(rg_idx, az_idx)\n",
    "    cbb_remapped[sweep_slice] = cbb_sweep[az_map_idx, rg_map_idx]"
   ]
  },
  {
   "cell_type": "code",
   "execution_count": 34,
   "id": "48ea68b8-c622-4d4b-acf9-8b0afce5c588",
   "metadata": {},
   "outputs": [
    {
     "name": "stderr",
     "output_type": "stream",
     "text": [
      "/g/data/en0/jss548/miniconda3/envs/radar-dev/lib/python3.9/site-packages/ipykernel/ipkernel.py:283: DeprecationWarning: `should_run_async` will not call `transform_cell` automatically in the future. Please pass the result to `transformed_cell` argument and any exception that happen during thetransform in `preprocessing_exc_tuple` in IPython 7.17 and above.\n",
      "  and should_run_async(code)\n"
     ]
    },
    {
     "name": "stdout",
     "output_type": "stream",
     "text": [
      "(5040, 1379) (5040, 1200)\n"
     ]
    },
    {
     "data": {
      "image/png": "[encoded data removed]",
      "text/plain": [
       "<Figure size 720x720 with 2 Axes>"
      ]
     },
     "metadata": {
      "needs_background": "light"
     },
     "output_type": "display_data"
    }
   ],
   "source": [
    "from matplotlib import pyplot as plt\n",
    "\n",
    "plt.figure(figsize=[10,10])\n",
    "ax = plt.subplot(121)\n",
    "plt.imshow(cbb)\n",
    "ax = plt.subplot(122)\n",
    "plt.imshow(cbb_remapped)\n",
    "\n",
    "print(np.shape(cbb), np.shape(cbb_remapped))"
   ]
  },
  {
   "cell_type": "code",
   "execution_count": null,
   "id": "9f1849cb-c3f7-4609-bc54-3ff47cca5f27",
   "metadata": {},
   "outputs": [],
   "source": []
  }
 ],
 "metadata": {
  "kernelspec": {
   "display_name": "Python [conda env:radar-dev] *",
   "language": "python",
   "name": "conda-env-radar-dev-py"
  },
  "language_info": {
   "codemirror_mode": {
    "name": "ipython",
    "version": 3
   },
   "file_extension": ".py",
   "mimetype": "text/x-python",
   "name": "python",
   "nbconvert_exporter": "python",
   "pygments_lexer": "ipython3",
   "version": "3.9.4"
  }
 },
 "nbformat": 4,
 "nbformat_minor": 5
}
