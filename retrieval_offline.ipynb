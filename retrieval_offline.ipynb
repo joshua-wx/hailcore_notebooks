{
 "cells": [
  {
   "cell_type": "code",
   "execution_count": 1,
   "metadata": {},
   "outputs": [
    {
     "name": "stdout",
     "output_type": "stream",
     "text": [
      "\n",
      "## You are using the Python ARM Radar Toolkit (Py-ART), an open source\n",
      "## library for working with weather radar data. Py-ART is partly\n",
      "## supported by the U.S. Department of Energy as part of the Atmospheric\n",
      "## Radiation Measurement (ARM) Climate Research Facility, an Office of\n",
      "## Science user facility.\n",
      "##\n",
      "## If you use this software to prepare a publication, please cite:\n",
      "##\n",
      "##     JJ Helmus and SM Collis, JORS 2016, doi: 10.5334/jors.119\n",
      "\n"
     ]
    },
    {
     "name": "stderr",
     "output_type": "stream",
     "text": [
      "/g/data/en0/jss548/miniconda3/envs/hailcore/lib/python3.9/site-packages/hailcore-1.0.0-py3.9.egg/hailcore/lib_nwp.py:19: DeprecationWarning: invalid escape sequence \\s\n",
      "/g/data/en0/jss548/miniconda3/envs/hailcore/lib/python3.9/site-packages/hailcore-1.0.0-py3.9.egg/hailcore/lib_nwp.py:19: DeprecationWarning: invalid escape sequence \\s\n"
     ]
    }
   ],
   "source": [
    "import time\n",
    "import os\n",
    "from glob import glob\n",
    "from datetime import datetime\n",
    "from pebble import ProcessPool, ProcessExpired\n",
    "import configparser\n",
    "import traceback\n",
    "import warnings\n",
    "from importlib import reload\n",
    "\n",
    "from tqdm import tqdm\n",
    "\n",
    "from hailcore import lib_dp as dp\n",
    "from hailcore import lib_grid as grid\n",
    "from hailcore import lib_nwp as nwp\n",
    "from hailcore import lib_optflow as optflow\n",
    "from hailcore import lib_qc as qc\n",
    "from hailcore import lib_file as file\n",
    "from hailcore import lib_conf as conf_generator\n",
    "from hailcore import lib_util as util\n",
    "from hailcore import lib_geometry as geometry\n",
    "from hailcore import lib_layers\n",
    "\n",
    "from hailcore import retrieval_volume\n",
    "from hailcore import retrieval_grid\n",
    "from hailcore import retrieval_optflow\n",
    "from hailcore import retrieval_accumulation\n",
    "from hailcore import retrieval\n",
    "\n",
    "warnings.simplefilter(\"ignore\")\n",
    "\n"
   ]
  },
  {
   "cell_type": "code",
   "execution_count": 2,
   "metadata": {},
   "outputs": [
    {
     "data": {
      "text/plain": [
       "' SPLASH events\\n66 20180926\\n\\n'"
      ]
     },
     "execution_count": 2,
     "metadata": {},
     "output_type": "execute_result"
    }
   ],
   "source": [
    "\"\"\"\n",
    "PERILS events\n",
    "\n",
    "3 19990414\n",
    "\n",
    "71,3,4 20181220\n",
    "\n",
    "23 20200419\n",
    "\n",
    "2,40,3,4,66 20200119 20200121 \n",
    "\n",
    "66,8,28 20201031\n",
    "\"\"\"\n",
    "\n",
    "\"\"\" SPLASH events\n",
    "66 20180926\n",
    "\n",
    "\"\"\""
   ]
  },
  {
   "cell_type": "code",
   "execution_count": 5,
   "metadata": {},
   "outputs": [],
   "source": [
    "#config path\n",
    "\n",
    "# queue = [([3], '19990414', '19990414'),\n",
    "#         ([71,3,4], '20181220', '20181220'),\n",
    "#         ([23],'20200419','20200419'),\n",
    "#         ([2,40,3,4,66],'20200119','20200121'),\n",
    "#         ([66,8,28],'20201031','20201031'),\n",
    "#         ([66],'20180926','20180926')]\n",
    "\n",
    "# queue = [([64],'20161111','20161111'),\n",
    "#         ([66],'20191117','20191117')]\n",
    "queue = [([66],'20191117','20191117')]\n",
    "\n",
    "\n",
    "#(radar_id_list, start_date_str, end_date_str)\n",
    "#queue = [([66],'20180926','20180926')]\n"
   ]
  },
  {
   "cell_type": "markdown",
   "metadata": {},
   "source": [
    "### call workers"
   ]
  },
  {
   "cell_type": "code",
   "execution_count": 6,
   "metadata": {
    "tags": []
   },
   "outputs": [
    {
     "name": "stdout",
     "output_type": "stream",
     "text": [
      "starting grid multiprocessing for: 66 2019-11-17 00:00:00\n"
     ]
    },
    {
     "name": "stderr",
     "output_type": "stream",
     "text": [
      "100%|██████████| 30/30 [17:06<00:00, 34.22s/it]\n"
     ]
    },
    {
     "name": "stdout",
     "output_type": "stream",
     "text": [
      "starting opticalflow multiprocessing for: 66 2019-11-17 00:00:00\n"
     ]
    },
    {
     "name": "stderr",
     "output_type": "stream",
     "text": [
      "100%|██████████| 30/30 [01:38<00:00,  3.30s/it]\n"
     ]
    },
    {
     "name": "stdout",
     "output_type": "stream",
     "text": [
      "starting acc multiprocessing for: 66 2019-11-17 00:00:00\n"
     ]
    },
    {
     "name": "stderr",
     "output_type": "stream",
     "text": [
      "  0%|          | 0/30 [00:00<?, ?it/s]"
     ]
    },
    {
     "name": "stdout",
     "output_type": "stream",
     "text": [
      "None opt_dict, aborting\n",
      "cannot find valid t0 grid for t1: 2019-11-17 00:01:00\n"
     ]
    },
    {
     "name": "stderr",
     "output_type": "stream",
     "text": [
      "100%|██████████| 30/30 [02:02<00:00,  4.09s/it]\n"
     ]
    }
   ],
   "source": [
    "#TODO: run profiler on DP data processing - 30seconds is too long.\n",
    "\n",
    "\n",
    "#Batch Mode\n",
    "conf = conf_generator.HailCore(mode='nci')\n",
    "\n",
    "def multiproc(item_list, conf, function_name):\n",
    "    #build arg list\n",
    "    arg_list = []\n",
    "    for item in item_list:\n",
    "        arg_list.append((item, conf))\n",
    "    n_chunks = int(len(arg_list)/conf.ncpu)\n",
    "    output = []\n",
    "    for arg_slice in tqdm(util.chunks(arg_list, conf.ncpu), total=n_chunks):\n",
    "        with ProcessPool() as pool:\n",
    "            future = pool.map(eval(function_name), arg_slice, timeout=conf.timeout)\n",
    "            iterator = future.result()\n",
    "            while True:\n",
    "                try:\n",
    "                    output.append(next(iterator))\n",
    "                except StopIteration:\n",
    "                    break\n",
    "                except TimeoutError as error:\n",
    "                    print(\"function took longer than %d seconds\" % error.args[1])\n",
    "                except ProcessExpired as error:\n",
    "                    print(\"%s. Exit code: %d\" % (error, error.exitcode))\n",
    "                except TypeError as error:\n",
    "                    print(\"%s. Exit code: %d\" % (error, error.exitcode))\n",
    "                except Exception:\n",
    "                    traceback.print_exc()\n",
    "    return output\n",
    "\n",
    "def _multiproc_grid(args):\n",
    "    #unpack args\n",
    "    vol_ffn, conf = args\n",
    "    radar = retrieval_volume.worker(vol_ffn, conf)\n",
    "    grid_ffn = retrieval_grid.worker(radar, conf)\n",
    "    return grid_ffn\n",
    "    \n",
    "def _multiproc_opt(args):\n",
    "    #unpack args\n",
    "    grid_ffn, conf = args\n",
    "    opt_dict = retrieval_optflow.worker(grid_ffn, conf)\n",
    "    return opt_dict\n",
    "\n",
    "def _multiproc_acc(args):\n",
    "    #unpack args\n",
    "    opt_dict, conf = args\n",
    "    retrieval_accumulation.worker(opt_dict, conf)\n",
    "    return None\n",
    "        \n",
    "#extract level1 vol files\n",
    "for item in queue:\n",
    "    radar_id_list = item[0]\n",
    "    start_dt = datetime.strptime(item[1], '%Y%m%d')\n",
    "    end_dt = datetime.strptime(item[2], '%Y%m%d')\n",
    "    dt_list = util.daterange(start_dt, end_dt)\n",
    "    for radar_id in radar_id_list:\n",
    "        for dt in dt_list:\n",
    "\n",
    "            #unpack volume into temp folder\n",
    "            zip_ffn = f'{conf.odimh5_root}/{radar_id}/{dt.year}/vol/{radar_id}_{dt.strftime(\"%Y%m%d\")}.pvol.zip'\n",
    "            temp_path = file.unpack_zip(zip_ffn)\n",
    "            vol_ffn_list = sorted(glob(temp_path + '/*.h5'))\n",
    "            \n",
    "            #setup multiprocessing here\n",
    "            if conf.ncpu == 1:\n",
    "                #single process\n",
    "                for vol_ffn in tqdm(vol_ffn_list, total=len(vol_ffn_list)):\n",
    "                    retrieval.manager(vol_ffn, conf)\n",
    "\n",
    "            else:\n",
    "                #multiprocessing grids\n",
    "                print('starting grid multiprocessing for:', radar_id, dt)\n",
    "                grid_ffn_list = multiproc(vol_ffn_list, conf, '_multiproc_grid')\n",
    "                \n",
    "                #multiprocessing opticalflow (must be separate to ensure grids have finished writting)\n",
    "                print('starting opticalflow multiprocessing for:', radar_id, dt)\n",
    "                opt_dict_list = multiproc(grid_ffn_list, conf, '_multiproc_opt')\n",
    "                \n",
    "                #multiprocessing 5minacc (must be separate to ensure opticalflow have finished writting)\n",
    "                print('starting acc multiprocessing for:', radar_id, dt)\n",
    "                _ = multiproc(opt_dict_list, conf, '_multiproc_acc')               \n",
    "\n",
    "            #clean up\n",
    "            os.system(f'rm -rf {temp_path}')\n"
   ]
  },
  {
   "cell_type": "code",
   "execution_count": null,
   "metadata": {},
   "outputs": [],
   "source": []
  }
 ],
 "metadata": {
  "kernelspec": {
   "display_name": "Python [conda env:hailcore]",
   "language": "python",
   "name": "conda-env-hailcore-py"
  },
  "language_info": {
   "codemirror_mode": {
    "name": "ipython",
    "version": 3
   },
   "file_extension": ".py",
   "mimetype": "text/x-python",
   "name": "python",
   "nbconvert_exporter": "python",
   "pygments_lexer": "ipython3",
   "version": "3.9.7"
  }
 },
 "nbformat": 4,
 "nbformat_minor": 4
}
