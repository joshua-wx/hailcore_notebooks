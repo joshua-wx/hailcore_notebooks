{
 "cells": [
  {
   "cell_type": "code",
   "execution_count": null,
   "id": "cc33e703-b633-4a00-8a30-dd4d3ebdc81f",
   "metadata": {},
   "outputs": [],
   "source": [
    "from hailcore import lib_qc"
   ]
  },
  {
   "cell_type": "code",
   "execution_count": null,
   "id": "4ff19ea6-2e3b-483e-9a81-c34b1319b4e1",
   "metadata": {},
   "outputs": [],
   "source": []
  }
 ],
 "metadata": {
  "kernelspec": {
   "display_name": "Python [conda env:hailcore]",
   "language": "python",
   "name": "conda-env-hailcore-py"
  },
  "language_info": {
   "codemirror_mode": {
    "name": "ipython",
    "version": 3
   },
   "file_extension": ".py",
   "mimetype": "text/x-python",
   "name": "python",
   "nbconvert_exporter": "python",
   "pygments_lexer": "ipython3",
   "version": "3.9.7"
  }
 },
 "nbformat": 4,
 "nbformat_minor": 5
}
